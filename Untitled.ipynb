{
 "cells": [
  {
   "cell_type": "code",
   "execution_count": 7,
   "metadata": {},
   "outputs": [],
   "source": [
    "from gensim.models import Word2Vec\n",
    "from sklearn.decomposition import PCA\n",
    "from matplotlib import pyplot"
   ]
  },
  {
   "cell_type": "code",
   "execution_count": 5,
   "metadata": {},
   "outputs": [
    {
     "name": "stdout",
     "output_type": "stream",
     "text": [
      "Word2Vec(vocab=14, size=100, alpha=0.025)\n",
      "['this', 'is', 'the', 'first', 'sentence', 'for', 'word2vec', 'second', 'yet', 'another', 'one', 'more', 'and', 'final']\n",
      "[ 4.2708255e-03 -2.4468515e-03  3.1312436e-03  3.0046396e-03\n",
      " -1.8143313e-03  3.4631947e-03  2.3160565e-03 -4.5328839e-03\n",
      " -3.7617928e-03  4.2921989e-03  4.3083411e-03 -4.9710665e-03\n",
      "  1.3204130e-03 -4.1445512e-03 -3.2776308e-03  3.4719675e-03\n",
      "  1.1598173e-03  3.5945538e-03 -4.4508227e-03  2.9840786e-03\n",
      "  4.3514813e-03 -3.1643792e-04 -1.5628474e-03 -7.0398243e-04\n",
      "  2.5743600e-03  1.8978273e-03 -3.5514261e-03 -2.3225334e-03\n",
      " -8.7957305e-04 -1.6526784e-03  4.6621901e-03  1.7839583e-03\n",
      " -5.3279819e-05  3.9937124e-03 -2.5864991e-03 -3.5222867e-03\n",
      "  1.6040815e-03 -4.5886738e-03  6.8987056e-04 -1.5085327e-03\n",
      "  9.8212331e-04 -1.5807371e-03 -5.7407026e-04 -2.1674116e-03\n",
      " -3.7177098e-03 -4.3835072e-03  4.7488866e-04  3.3035246e-03\n",
      " -8.9806458e-04  3.9528986e-03  3.3377064e-04  2.6617248e-03\n",
      " -2.8854813e-03 -3.8623593e-03  3.1939568e-03 -4.8146821e-03\n",
      " -2.3229138e-03  1.7914919e-03  5.6717207e-04  4.0484308e-03\n",
      " -3.1490687e-03  1.2080324e-03 -1.8071267e-03 -1.5753775e-03\n",
      "  4.9513257e-03 -2.9932638e-03 -1.5917945e-03 -4.8910179e-03\n",
      "  2.3704919e-03  2.3001719e-03  4.9536075e-03 -1.0190539e-03\n",
      "  4.9165054e-04 -3.9204080e-03  3.7882030e-03  3.1582194e-03\n",
      "  2.4546506e-03  3.3424122e-03 -1.0763324e-04  5.6119403e-04\n",
      "  2.4551183e-03  1.0738563e-04 -4.8421039e-03  3.2927310e-03\n",
      " -3.2167784e-03  2.1934428e-03  4.5754230e-03 -1.8232964e-03\n",
      "  1.5524971e-04  3.1698740e-03 -4.7382424e-03  1.9330423e-03\n",
      "  2.8993988e-03 -3.8345554e-03 -3.6380342e-03 -2.3598424e-03\n",
      "  1.6573302e-03 -3.2363125e-04 -2.3049631e-03  8.0836931e-04]\n",
      "Word2Vec(vocab=14, size=100, alpha=0.025)\n"
     ]
    },
    {
     "name": "stderr",
     "output_type": "stream",
     "text": [
      "/Users/soniabaee/anaconda3/lib/python3.6/site-packages/ipykernel_launcher.py:15: DeprecationWarning: Call to deprecated `__getitem__` (Method will be removed in 4.0.0, use self.wv.__getitem__() instead).\n",
      "  from ipykernel import kernelapp as app\n"
     ]
    }
   ],
   "source": [
    "# define training data\n",
    "sentences = [['this', 'is', 'the', 'first', 'sentence', 'for', 'word2vec'],\n",
    "             ['this', 'is', 'the', 'second', 'sentence'],\n",
    "             ['yet', 'another', 'sentence'],\n",
    "             ['one', 'more', 'sentence'],\n",
    "             ['and', 'the', 'final', 'sentence']]\n",
    "# train model\n",
    "model = Word2Vec(sentences, min_count=1, workers = 5)\n",
    "# summarize the loaded model\n",
    "print(model)\n",
    "# summarize vocabulary\n",
    "words = list(model.wv.vocab)\n",
    "print(words)\n",
    "# access vector for one word\n",
    "print(model['sentence'])\n",
    "# save model\n",
    "model.save('model.bin')\n",
    "# load model\n",
    "new_model = Word2Vec.load('model.bin')\n",
    "print(new_model)"
   ]
  },
  {
   "cell_type": "code",
   "execution_count": 8,
   "metadata": {},
   "outputs": [
    {
     "name": "stderr",
     "output_type": "stream",
     "text": [
      "/Users/soniabaee/anaconda3/lib/python3.6/site-packages/ipykernel_launcher.py:2: DeprecationWarning: Call to deprecated `__getitem__` (Method will be removed in 4.0.0, use self.wv.__getitem__() instead).\n",
      "  \n"
     ]
    },
    {
     "data": {
      "image/png": "[encoded data removed]",
      "text/plain": [
       "<Figure size 432x288 with 1 Axes>"
      ]
     },
     "metadata": {},
     "output_type": "display_data"
    }
   ],
   "source": [
    "# fit a 2d PCA model to the vectors\n",
    "X = model[model.wv.vocab]\n",
    "pca = PCA(n_components=2)\n",
    "result = pca.fit_transform(X)\n",
    "# create a scatter plot of the projection\n",
    "pyplot.scatter(result[:, 0], result[:, 1])\n",
    "words = list(model.wv.vocab)\n",
    "for i, word in enumerate(words):\n",
    "    pyplot.annotate(word, xy=(result[i, 0], result[i, 1]))\n",
    "pyplot.show()"
   ]
  },
  {
   "cell_type": "code",
   "execution_count": null,
   "metadata": {},
   "outputs": [],
   "source": []
  }
 ],
 "metadata": {
  "kernelspec": {
   "display_name": "Python 3",
   "language": "python",
   "name": "python3"
  },
  "language_info": {
   "codemirror_mode": {
    "name": "ipython",
    "version": 3
   },
   "file_extension": ".py",
   "mimetype": "text/x-python",
   "name": "python",
   "nbconvert_exporter": "python",
   "pygments_lexer": "ipython3",
   "version": "3.6.5"
  }
 },
 "nbformat": 4,
 "nbformat_minor": 2
}
