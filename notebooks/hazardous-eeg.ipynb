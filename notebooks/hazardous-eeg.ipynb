{
 "cells": [
  {
   "cell_type": "code",
   "execution_count": 97,
   "metadata": {},
   "outputs": [],
   "source": [
    "import pandas as pd\n",
    "import glob\n",
    "import os"
   ]
  },
  {
   "cell_type": "code",
   "execution_count": 346,
   "metadata": {},
   "outputs": [],
   "source": [
    "path = \"/Users/sonia/Downloads/Archive/\"\n",
    "os.chdir(path)\n",
    "fileNames = os.listdir(path)\n",
    "\n",
    "df = pd.ExcelFile(\"/Users/sonia/Downloads/hazardousFrame.xlsx\")\n",
    "sheetNames = df.sheet_names\n",
    "df = df.parse(sheetNames[0])\n",
    "df.at[9,'endFrame'] = 410\n",
    "df.at[6,'endFrame'] = 430\n",
    "df.at[0,'endFrame'] = 400\n",
    "df.at[1,'endFrame'] = 400\n",
    "df.at[2,'endFrame'] = 400\n",
    "df.at[3,'endFrame'] = 400\n",
    "df.at[5,'endFrame'] = 400\n",
    "df.at[7,'endFrame'] = 410\n",
    "df.at[8,'endFrame'] = 440\n",
    "df.at[4,'endFrame'] = 430\n",
    "df.at[10,'endFrame'] = 430\n",
    "df.at[12,'endFrame'] = 440\n",
    "df.at[13,'endFrame'] = 425\n",
    "df.at[14,'endFrame'] = 420\n",
    "df.at[15,'endFrame'] = 405\n",
    "df.at[11,'endFrame'] = 420\n",
    "df.at[16,'endFrame'] = 450\n",
    "df.at[17,'endFrame'] = 410\n",
    "df.at[18,'endFrame'] = 430\n",
    "df.at[19,'endFrame'] = 440\n",
    "df.at[20,'endFrame'] = 450\n",
    "df.at[17,'Video'] = 'Night_Rain_High_3'"
   ]
  },
  {
   "cell_type": "code",
   "execution_count": 403,
   "metadata": {},
   "outputs": [],
   "source": [
    "saveName = fileNames[6].split(\".csv\")[0]\n",
    "anna = pd.read_csv(fileNames[6])"
   ]
  },
  {
   "cell_type": "code",
   "execution_count": 404,
   "metadata": {},
   "outputs": [],
   "source": [
    "anna['mrgTime'] = round(anna['MediaTime']/1000)"
   ]
  },
  {
   "cell_type": "code",
   "execution_count": 405,
   "metadata": {},
   "outputs": [],
   "source": [
    "# videoPath = \"/Users/sonia/Desktop/Projects/EyeCar/FrameObj/\"\n",
    "# savePath = \"/Users/sonia/Desktop/Projects/videoObj/\"\n",
    "# for n in Names:\n",
    "#     listFiles = [f for f in glob.glob(videoPath + n + \"_output_*.csv\")]\n",
    "#     combined = pd.concat([pd.read_csv(f) for f in listFiles])\n",
    "#     combined.to_csv(savePath + n + \"_all.csv\")"
   ]
  },
  {
   "cell_type": "code",
   "execution_count": 406,
   "metadata": {},
   "outputs": [],
   "source": [
    "data = {}\n",
    "for f in glob.glob(savePath+\"*.csv\"):\n",
    "    file = pd.read_csv(f)[['box_points', 'frame']].sort_values('frame')\n",
    "    file['mrgTime'] = round(file['frame']/15)\n",
    "    name = f.split(\"Projects/videoObj/\")[1].split(\"_all.csv\")[0]\n",
    "    data[name] = file"
   ]
  },
  {
   "cell_type": "code",
   "execution_count": 407,
   "metadata": {},
   "outputs": [],
   "source": [
    "newData = {}\n",
    "for key in data:\n",
    "    videoData = data[key]\n",
    "    eegData = anna[anna['StimulusName'] == key]\n",
    "    tmp = pd.merge(videoData, eegData, on = \"mrgTime\")\n",
    "    newData[key] = tmp"
   ]
  },
  {
   "cell_type": "code",
   "execution_count": 408,
   "metadata": {},
   "outputs": [],
   "source": [
    "finalData = {}\n",
    "for key in newData:\n",
    "    tmp = newData[key]\n",
    "    tmp['hazardousFrame'] = 0\n",
    "    startFrame = df.loc[df['Video'] == key]['startFrame'].values[0]\n",
    "    endFrame = df.loc[df['Video'] == key]['endFrame'].values[0]\n",
    "    tmp.loc[(tmp['frame'] >= startFrame) & (tmp['frame'] <= endFrame), 'hazardousFrame'] = 1\n",
    "    finalData[key] = tmp"
   ]
  },
  {
   "cell_type": "code",
   "execution_count": 409,
   "metadata": {},
   "outputs": [
    {
     "name": "stdout",
     "output_type": "stream",
     "text": [
      "Day_Rain_High_1\n",
      "[0 1]\n",
      "Day_Rain_High_2\n",
      "[0 1]\n",
      "Day_Rain_Town_1\n",
      "[0 1]\n",
      "Day_Rain_Town_2\n",
      "[0 1]\n",
      "Day_Rain_Town_3\n",
      "[0 1]\n",
      "Day_Sunny_High_1\n",
      "[0 1]\n",
      "Day_Sunny_High_2\n",
      "[0 1]\n",
      "Day_Sunny_Town_1\n",
      "[0 1]\n",
      "Day_Sunny_Town_3\n",
      "[0 1]\n",
      "Day_Sunny_Town_4\n",
      "[]\n",
      "Night_Rain_High_1\n",
      "[1]\n",
      "Night_Rain_High_2\n",
      "[0 1]\n",
      "Night_Rain_High_3\n",
      "[0 1]\n",
      "Night_Rain_High_4\n",
      "[0 1]\n",
      "Night_Rain_Town_2\n",
      "[0 1]\n",
      "Night_Rain_Town_3\n",
      "[0 1]\n",
      "Night_Sunny_High_1\n",
      "[0 1]\n",
      "Night_Sunny_High_2\n",
      "[0 1]\n",
      "Night_Sunny_Town_1\n",
      "[0 1]\n",
      "Night_Sunny_Town_2\n",
      "[0 1]\n"
     ]
    }
   ],
   "source": [
    "for key in finalData:\n",
    "    print(key)\n",
    "    print(finalData[key]['hazardousFrame'].unique())"
   ]
  },
  {
   "cell_type": "code",
   "execution_count": 410,
   "metadata": {},
   "outputs": [],
   "source": [
    "rmCols = ['mrgTime', 'Unnamed: 0', 'frame', 'MediaTime', 'TimeSignal']\n",
    "hazardousData = pd.DataFrame()\n",
    "for key in finalData:\n",
    "    tmp = finalData[key]\n",
    "    tmp.drop(rmCols, 1)\n",
    "    hazardousData = pd.concat([hazardousData, tmp], axis = 0)\n",
    "hazardousData.to_csv(savePath + \"/observer/\" + saveName + \"_hazardous.csv\")"
   ]
  },
  {
   "cell_type": "code",
   "execution_count": 411,
   "metadata": {},
   "outputs": [
    {
     "data": {
      "text/plain": [
       "Index(['box_points', 'frame', 'mrgTime', 'Unnamed: 0', 'Name', 'Age', 'Gender',\n",
       "       'StimulusName', 'EventSource', 'Timestamp',\n",
       "       ...\n",
       "       'F8 (Epoc)', 'AF4 (Epoc)', 'Gyro-X (Epoc)', 'Gyro-Y (Epoc)',\n",
       "       'SystemTimestamp (Epoc)', 'Heart Rate PPG  (Beats/min) (Shimmer)',\n",
       "       'IBI PPG  (mSecs) (Shimmer)', 'GSR CAL (¬µSiemens) (Shimmer)',\n",
       "       'Packet reception rate RAW (no units) (Shimmer)', 'hazardousFrame'],\n",
       "      dtype='object', length=107)"
      ]
     },
     "execution_count": 411,
     "metadata": {},
     "output_type": "execute_result"
    }
   ],
   "source": [
    "hazardousData.columns"
   ]
  }
 ],
 "metadata": {
  "kernelspec": {
   "display_name": "Python 3",
   "language": "python",
   "name": "python3"
  },
  "language_info": {
   "codemirror_mode": {
    "name": "ipython",
    "version": 3
   },
   "file_extension": ".py",
   "mimetype": "text/x-python",
   "name": "python",
   "nbconvert_exporter": "python",
   "pygments_lexer": "ipython3",
   "version": "3.7.3"
  }
 },
 "nbformat": 4,
 "nbformat_minor": 2
}
