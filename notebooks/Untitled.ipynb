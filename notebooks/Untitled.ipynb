{
 "cells": [
  {
   "cell_type": "code",
   "execution_count": 38,
   "metadata": {},
   "outputs": [],
   "source": [
    "import pandas as pd\n",
    "brakeAccident = pd.read_csv(\"/Users/soniabaee/Documents/Projects/EyeCar/SensorData/videoEvent.csv\")"
   ]
  },
  {
   "cell_type": "code",
   "execution_count": 39,
   "metadata": {},
   "outputs": [],
   "source": [
    "# cellSize = []\n",
    "# cellSize.append({'video': 'Day_Rain_Town_2', 'x': 40, 'y':30})\n",
    "# cellSize.append({'video': 'Night_Sunny_Town_2','x': 18, 'y':9})\n",
    "# cellSize.append({'video': 'Night_Sunny_Town_1','x': 30, 'y':18})\n",
    "# cellSize.append({'video': 'Night_Sunny_High_2','x': 29, 'y':18})\n",
    "# cellSize.append({'video': 'Night_Sunny_High_1','x': 17, 'y':12})\n",
    "# cellSize.append({'video': 'Night_Rain_Town_3','x': 30, 'y':20})\n",
    "# cellSize.append({'video': 'Night_Rain_Town_2','x': 40, 'y':33})\n",
    "# cellSize.append({'video': 'Night_Rain_High_4','x': 470, 'y':114})\n",
    "# cellSize.append({'video': 'Night_Rain_High_3','x': 40, 'y':37})\n",
    "# cellSize.append({'video': 'Night_Rain_High_2','x': 47, 'y':35})\n",
    "# cellSize.append({'video': 'Day_Sunny_Town_1','x': 40, 'y':30})\n",
    "# cellSize.append({'video': 'Day_Sunny_High_2','x': 54, 'y':44})\n",
    "# cellSize.append({'video': 'Day_Sunny_High_1','x': 125, 'y':70})\n",
    "# cellSize.append({'video': 'Day_Rain_Town_3','x': 17, 'y':12})\n",
    "# cellSize.append({'video': 'Day_Rain_Town_1','x': 32, 'y':35})\n",
    "# cellSize.append({'video': 'Day_Rain_High_2','x': 94, 'y':80})\n",
    "# cellSize.append({'video': 'Day_Rain_High_1','x': 25, 'y':20})\n",
    "# cellSize.append({'video': 'Night_Rain_High_1','x': 30, 'y':30})\n",
    "# cellSize.append({'video': 'Day_Sunny_Town_3','x': 71, 'y':48})\n",
    "# cellSize.append({'video': 'Day_Sunny_Town_4','x': 35, 'y':28})\n",
    "# cellSize.append({'video': 'Night_Rain_Town_1','x': 32, 'y':25})\n",
    "# cellSize = pd.DataFrame(cellSize)\n",
    "cell = pd.read_csv(\"/Users/soniabaee/Documents/Projects/EyeCar/SensorData/cellSize.csv\")"
   ]
  },
  {
   "cell_type": "code",
   "execution_count": 48,
   "metadata": {},
   "outputs": [
    {
     "data": {
      "text/plain": [
       "0      3.0\n",
       "1      3.0\n",
       "2      2.0\n",
       "3      5.0\n",
       "4     14.0\n",
       "5     13.0\n",
       "6      3.0\n",
       "7      8.0\n",
       "8      8.0\n",
       "9     14.0\n",
       "10     7.0\n",
       "11    10.0\n",
       "12    11.0\n",
       "13    17.0\n",
       "14    32.0\n",
       "15    11.0\n",
       "16     6.0\n",
       "17     6.0\n",
       "18    14.0\n",
       "19     5.0\n",
       "20    11.0\n",
       "dtype: float64"
      ]
     },
     "execution_count": 48,
     "metadata": {},
     "output_type": "execute_result"
    }
   ],
   "source": [
    "import numpy as np\n",
    "round(((brakeAccident['accident'] - brakeAccident['brake'])/30000)*100)"
   ]
  },
  {
   "cell_type": "code",
   "execution_count": 51,
   "metadata": {},
   "outputs": [],
   "source": [
    "brakeAccident['start'] = 0\n",
    "brakeAccident['End'] = 30000"
   ]
  },
  {
   "cell_type": "code",
   "execution_count": 54,
   "metadata": {},
   "outputs": [],
   "source": [
    "brakeAccident = brakeAccident[['video','start','brake', 'accident', 'End']]"
   ]
  },
  {
   "cell_type": "code",
   "execution_count": null,
   "metadata": {},
   "outputs": [],
   "source": []
  },
  {
   "cell_type": "code",
   "execution_count": 1,
   "metadata": {},
   "outputs": [],
   "source": [
    "import cv2\n",
    "import numpy as np\n",
    "import pandas as pd\n",
    "\n",
    "\n",
    "blue = (255, 0, 0)\n",
    "red = (0, 0, 255)\n",
    "green = (0, 210, 0)\n",
    "violet = (180, 0, 180)\n",
    "yellow = (0, 180, 180)\n",
    "white = (255, 255, 255)\n",
    "\n",
    "image = cv2.imread(\"/Users/soniabaee/Documents/Projects/EyeCar/Code/Frames/Night_Sunny_High_1/frame311.png\")\n",
    "shape = image.shape\n",
    "# resizedImg = cv2.resize(image, (1200, 700)) \n",
    "resizedImg = image"
   ]
  },
  {
   "cell_type": "code",
   "execution_count": 2,
   "metadata": {},
   "outputs": [],
   "source": [
    "splitVideo = pd.read_csv(\"/Users/soniabaee/Documents/Projects/EyeCar/SensorData/splitVideo.csv\")\n",
    "videoState = pd.read_csv(\"/Users/soniabaee/Documents/Projects/EyeCar/SensorData/videoState.csv\")\n",
    "states = videoState.loc[videoState['video'] == 'Night_Sunny_High_1']['states'].values[0]"
   ]
  },
  {
   "cell_type": "code",
   "execution_count": null,
   "metadata": {},
   "outputs": [],
   "source": [
    "xResolution = 1920\n",
    "yResolution = 1080\n",
    "xSplit = 16\n",
    "ySplit = 12\n",
    "for x in range(0, xResolution, xSplit): \n",
    "    cv2.line(resizedImg, (x,0), (x, yResolution), blue, thickness=1)\n",
    "for y in range(0, yResolution, ySplit): \n",
    "    cv2.line(resizedImg, (0,y), (xResolution, y), blue, thickness=1)\n",
    "\n",
    "cv2.rectangle(image, (208, 180), (224, 192), white, 0)\n",
    "cv2.rectangle(image, (224, 180), (240, 192), white, 0)\n",
    "cv2.rectangle(image, (240, 180), (256, 192), white, 0)\n",
    "cv2.rectangle(image, (256, 180), (272, 192), white, 0)\n",
    "# cv2.circle(resizedImg, (240, 205), 5, (0,255,0), -1)\n",
    "cv2.imshow(\"red panda\", resizedImg)\n",
    "cv2.waitKey(0)\n",
    "cv2.destroyAllWindows()\n"
   ]
  },
  {
   "cell_type": "code",
   "execution_count": null,
   "metadata": {},
   "outputs": [],
   "source": []
  }
 ],
 "metadata": {
  "kernelspec": {
   "display_name": "Python 3",
   "language": "python",
   "name": "python3"
  },
  "language_info": {
   "codemirror_mode": {
    "name": "ipython",
    "version": 3
   },
   "file_extension": ".py",
   "mimetype": "text/x-python",
   "name": "python",
   "nbconvert_exporter": "python",
   "pygments_lexer": "ipython3",
   "version": "3.6.5"
  }
 },
 "nbformat": 4,
 "nbformat_minor": 2
}
