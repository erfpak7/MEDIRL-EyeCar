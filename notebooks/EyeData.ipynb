{
 "cells": [
  {
   "cell_type": "code",
   "execution_count": null,
   "metadata": {},
   "outputs": [],
   "source": [
    "import pandas as pd\n",
    "import numpy as np\n",
    "import scipy\n",
    "import glob\n",
    "import os\n",
    "os.chdir(\"./SensorData/\")"
   ]
  },
  {
   "cell_type": "code",
   "execution_count": null,
   "metadata": {},
   "outputs": [],
   "source": [
    "files = glob.glob(\"*.xlsx\")\n",
    "names = [f.split(\".\")[0].split(\"_\")[1] for f in files]\n",
    "names = set(names)"
   ]
  },
  {
   "cell_type": "code",
   "execution_count": null,
   "metadata": {},
   "outputs": [],
   "source": [
    "allData = pd.DataFrame()\n",
    "for name in names:\n",
    "    nameFiles = [f for f in files if name in f]\n",
    "    data = pd.DataFrame()\n",
    "    for f in nameFiles:\n",
    "        print(f)\n",
    "        dt = pd.ExcelFile(f) \n",
    "        sheetNames = dt.sheet_names\n",
    "        df = dt.parse(sheetNames[0])\n",
    "        nData = df.loc[idx:df.shape[0]].values\n",
    "        tmp = pd.DataFrame(data=nData[1:,0:], columns=nData[0,0:]) \n",
    "        data = pd.concat([data, tmp], ignore_index=True, sort =False)\n",
    "    allData = pd.concat([allData, data], ignore_index=True, sort =False)\n",
    "    "
   ]
  },
  {
   "cell_type": "code",
   "execution_count": null,
   "metadata": {},
   "outputs": [],
   "source": [
    "usersData = pd.read_csv(\"./usersData.csv\")"
   ]
  },
  {
   "cell_type": "code",
   "execution_count": null,
   "metadata": {},
   "outputs": [],
   "source": [
    "eyeSourceData = usersData.loc[usersData['EventSource'].str.contains(\"ET\")]"
   ]
  },
  {
   "cell_type": "code",
   "execution_count": null,
   "metadata": {},
   "outputs": [],
   "source": [
    "intClmn = ['StudyName','ExportDate','Name', 'Age', 'Gender', 'StimulusName', 'SlideType', 'EventSource', 'Timestamp',\n",
    "           'MediaTime', 'TimeSignal', 'GazeLeftx', 'GazeLefty', 'GazeRightx', 'GazeRighty', 'PupilLeft', 'PupilRight',\n",
    "           'DistanceLeft', 'DistanceRight', 'CameraLeftX', 'CameraLeftY', 'CameraRightX', 'CameraRightY', 'ValidityLeft',\n",
    "           'ValidityRight', 'GazeX', 'GazeY', 'GazeAOI', 'InterpolatedGazeX', 'InterpolatedGazeY', 'GazeEventType',\n",
    "           'GazeVelocityAngle', 'SaccadeSeq', 'SaccadeStart', 'SaccadeDuration', 'FixationSeq', 'FixationX', 'FixationY',\n",
    "           'FixationStart', 'FixationDuration', 'FixationAOI']"
   ]
  },
  {
   "cell_type": "code",
   "execution_count": null,
   "metadata": {},
   "outputs": [],
   "source": [
    "brakeAccident = pd.read_csv(\"./SensorData/videoEvent.csv\")\n",
    "cell = pd.read_csv(\"./SensorData/cellSize.csv\")\n",
    "\n",
    "brakeAccident = brakeAccident[['video','start','brake', 'accident', 'End']]\n",
    "\n",
    "splitVideo = pd.read_csv(\"./SensorData/splitVideo.csv\")\n",
    "videoState = pd.read_csv(\"./videoState.csv\")\n",
    "for video in videoState['video']:\n",
    "    states = videoState.loc[videoState['video'] == video]['states'].values[0]"
   ]
  }
 ],
 "metadata": {
  "kernelspec": {
   "display_name": "Python 3",
   "language": "python",
   "name": "python3"
  },
  "language_info": {
   "codemirror_mode": {
    "name": "ipython",
    "version": 3
   },
   "file_extension": ".py",
   "mimetype": "text/x-python",
   "name": "python",
   "nbconvert_exporter": "python",
   "pygments_lexer": "ipython3",
   "version": "3.6.5"
  }
 },
 "nbformat": 4,
 "nbformat_minor": 2
}
