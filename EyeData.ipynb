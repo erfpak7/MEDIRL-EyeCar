{
 "cells": [
  {
   "cell_type": "code",
   "execution_count": 123,
   "metadata": {},
   "outputs": [],
   "source": [
    "import pandas as pd\n",
    "import numpy as np\n",
    "import scipy\n",
    "import glob\n",
    "import os\n",
    "os.chdir(\"/Users/soniabaee/Documents/Projects/EyeCar/SensorData/\")"
   ]
  },
  {
   "cell_type": "code",
   "execution_count": 24,
   "metadata": {},
   "outputs": [],
   "source": [
    "files = glob.glob(\"*.xlsx\")\n",
    "names = [f.split(\".\")[0].split(\"_\")[1] for f in files]\n",
    "names = set(names)"
   ]
  },
  {
   "cell_type": "code",
   "execution_count": 120,
   "metadata": {},
   "outputs": [
    {
     "name": "stdout",
     "output_type": "stream",
     "text": [
      "006_shravan.xlsx\n",
      "005_shravan.xlsx\n",
      "002_Shili.xlsx\n",
      "003_Shili.xlsx\n",
      "004_Daniel.xlsx\n",
      "001_Daniel.xlsx\n",
      "001_Tyler.xlsx\n",
      "004_Tyler.xlsx\n",
      "005_Minghui.xlsx\n",
      "004_Minghui.xlsx\n",
      "002_Dr. Kim.xlsx\n",
      "001_Dr. Kim.xlsx\n",
      "001_Victor.xlsx\n",
      "003_Victor.xlsx\n",
      "001_Nazanin.xlsx\n",
      "002_Nazanin.xlsx\n",
      "003_Sanjana.xlsx\n",
      "004_Sanjana.xlsx\n",
      "003_Luis.xlsx\n",
      "002_Luis.xlsx\n",
      "004_Anna.xlsx\n",
      "003_Anna.xlsx\n",
      "001_janie.xlsx\n",
      "002_janie.xlsx\n",
      "001_vishesh.xlsx\n",
      "006_vishesh.xlsx\n",
      "002_Hassan.xlsx\n",
      "001_Hassan.xlsx\n",
      "002_Erfan.xlsx\n",
      "001_Erfan.xlsx\n",
      "004_Mawulolo.xlsx\n",
      "005_Mawulolo.xlsx\n",
      "003_Xiang.xlsx\n",
      "002_Xiang.xlsx\n"
     ]
    }
   ],
   "source": [
    "allData = pd.DataFrame()\n",
    "for name in names:\n",
    "    nameFiles = [f for f in files if name in f]\n",
    "    data = pd.DataFrame()\n",
    "    for f in nameFiles:\n",
    "        print(f)\n",
    "        dt = pd.ExcelFile(f) \n",
    "        sheetNames = dt.sheet_names\n",
    "        df = dt.parse(sheetNames[0])\n",
    "        idx = 39\n",
    "        if f == \"001_Daniel.xlsx\":\n",
    "            idx = 33\n",
    "        if f == \"001_Tyler.xlsx\":\n",
    "            idx = 38\n",
    "        if f == \"004_Minghui.xlsx\":\n",
    "            idx = 5\n",
    "        if f == \"005_Minghui.xlsx\":\n",
    "            idx = 30\n",
    "        if f == \"001_Nazanin.xlsx\":\n",
    "            idx = 39\n",
    "        if f == \"002_Nazanin.xlsx\":\n",
    "            idx = 37\n",
    "        if f == \"001_janie.xlsx\" or f == \"002_janie.xlsx\":\n",
    "            idx = 38\n",
    "        if f == \"004_Mawulolo.xlsx\":\n",
    "            idx = 35\n",
    "        if f == \"005_Mawulolo.xlsx\":\n",
    "            idx = 32\n",
    "        nData = df.loc[idx:df.shape[0]].values\n",
    "        tmp = pd.DataFrame(data=nData[1:,0:], columns=nData[0,0:]) \n",
    "        data = pd.concat([data, tmp], ignore_index=True, sort =False)\n",
    "    allData = pd.concat([allData, data], ignore_index=True, sort =False)\n",
    "    "
   ]
  },
  {
   "cell_type": "code",
   "execution_count": 26,
   "metadata": {},
   "outputs": [],
   "source": [
    "# Danile and Janie and new data doesn't follow same pattern to extract the data therefore consider those changes \n",
    "# you are planning to merge all of them"
   ]
  },
  {
   "cell_type": "code",
   "execution_count": 121,
   "metadata": {},
   "outputs": [],
   "source": [
    "allData.to_csv(\"/Users/soniabaee/Documents/Projects/EyeCar/SensorData/usersData.csv\")"
   ]
  },
  {
   "cell_type": "code",
   "execution_count": 1,
   "metadata": {},
   "outputs": [
    {
     "ename": "NameError",
     "evalue": "name 'pd' is not defined",
     "output_type": "error",
     "traceback": [
      "\u001b[0;31m---------------------------------------------------------------------------\u001b[0m",
      "\u001b[0;31mNameError\u001b[0m                                 Traceback (most recent call last)",
      "\u001b[0;32m<ipython-input-1-5ba804528f0c>\u001b[0m in \u001b[0;36m<module>\u001b[0;34m()\u001b[0m\n\u001b[0;32m----> 1\u001b[0;31m \u001b[0musersData\u001b[0m \u001b[0;34m=\u001b[0m \u001b[0mpd\u001b[0m\u001b[0;34m.\u001b[0m\u001b[0mread_csv\u001b[0m\u001b[0;34m(\u001b[0m\u001b[0;34m\"/Users/soniabaee/Documents/Projects/EyeCar/SensorData/usersData.csv\"\u001b[0m\u001b[0;34m)\u001b[0m\u001b[0;34m\u001b[0m\u001b[0m\n\u001b[0m",
      "\u001b[0;31mNameError\u001b[0m: name 'pd' is not defined"
     ]
    }
   ],
   "source": [
    "usersData = pd.read_csv(\"/Users/soniabaee/Documents/Projects/EyeCar/SensorData/usersData.csv\")"
   ]
  },
  {
   "cell_type": "code",
   "execution_count": 128,
   "metadata": {},
   "outputs": [],
   "source": [
    "eyeSourceData = usersData.loc[usersData['EventSource'].str.contains(\"ET\")]"
   ]
  },
  {
   "cell_type": "code",
   "execution_count": 136,
   "metadata": {},
   "outputs": [],
   "source": [
    "intClmn = ['StudyName','ExportDate','Name', 'Age', 'Gender', 'StimulusName', 'SlideType', 'EventSource', 'Timestamp',\n",
    "           'MediaTime', 'TimeSignal', 'GazeLeftx', 'GazeLefty', 'GazeRightx', 'GazeRighty', 'PupilLeft', 'PupilRight',\n",
    "           'DistanceLeft', 'DistanceRight', 'CameraLeftX', 'CameraLeftY', 'CameraRightX', 'CameraRightY', 'ValidityLeft',\n",
    "           'ValidityRight', 'GazeX', 'GazeY', 'GazeAOI', 'InterpolatedGazeX', 'InterpolatedGazeY', 'GazeEventType',\n",
    "           'GazeVelocityAngle', 'SaccadeSeq', 'SaccadeStart', 'SaccadeDuration', 'FixationSeq', 'FixationX', 'FixationY',\n",
    "           'FixationStart', 'FixationDuration', 'FixationAOI']"
   ]
  },
  {
   "cell_type": "code",
   "execution_count": 145,
   "metadata": {},
   "outputs": [
    {
     "data": {
      "text/plain": [
       "-1.0       186889\n",
       " 928.0       5384\n",
       " 910.0       5300\n",
       " 914.0       5106\n",
       " 932.0       4949\n",
       "            ...  \n",
       " 200.0          1\n",
       " 1888.0         1\n",
       " 43.0           1\n",
       " 165.0          1\n",
       " 1770.0         1\n",
       "Name: GazeX, Length: 1809, dtype: int64"
      ]
     },
     "execution_count": 145,
     "metadata": {},
     "output_type": "execute_result"
    }
   ],
   "source": [
    "eyeSourceData.GazeX.value_counts()"
   ]
  },
  {
   "cell_type": "code",
   "execution_count": null,
   "metadata": {},
   "outputs": [],
   "source": []
  }
 ],
 "metadata": {
  "kernelspec": {
   "display_name": "Python 3",
   "language": "python",
   "name": "python3"
  },
  "language_info": {
   "codemirror_mode": {
    "name": "ipython",
    "version": 3
   },
   "file_extension": ".py",
   "mimetype": "text/x-python",
   "name": "python",
   "nbconvert_exporter": "python",
   "pygments_lexer": "ipython3",
   "version": "3.6.5"
  }
 },
 "nbformat": 4,
 "nbformat_minor": 2
}
